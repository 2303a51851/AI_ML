{
  "nbformat": 4,
  "nbformat_minor": 0,
  "metadata": {
    "colab": {
      "provenance": [],
      "authorship_tag": "ABX9TyMigJSyqtfwdmKQxsYUp3f9",
      "include_colab_link": true
    },
    "kernelspec": {
      "name": "python3",
      "display_name": "Python 3"
    },
    "language_info": {
      "name": "python"
    }
  },
  "cells": [
    {
      "cell_type": "markdown",
      "metadata": {
        "id": "view-in-github",
        "colab_type": "text"
      },
      "source": [
        "<a href=\"https://colab.research.google.com/github/2303a51851/AI_ML/blob/main/Ass_part_3.ipynb\" target=\"_parent\"><img src=\"https://colab.research.google.com/assets/colab-badge.svg\" alt=\"Open In Colab\"/></a>"
      ]
    },
    {
      "cell_type": "code",
      "execution_count": 1,
      "metadata": {
        "colab": {
          "base_uri": "https://localhost:8080/"
        },
        "id": "7HmpeVJxGV8l",
        "outputId": "0210f48c-bf03-48b6-8db6-96f3012332ff"
      },
      "outputs": [
        {
          "output_type": "stream",
          "name": "stdout",
          "text": [
            "Path from A to F: A -> C -> F\n",
            "Total cost: 6\n",
            "Path from A to E: A -> C -> E\n",
            "Total cost: 6\n"
          ]
        }
      ],
      "source": [
        "import heapq\n",
        "\n",
        "def a_star_search(start, goal, nodes, edges, heuristic):\n",
        "    # Initialize the open set (priority queue)\n",
        "    open_set = []\n",
        "    heapq.heappush(open_set, (0 + heuristic[start], start))\n",
        "\n",
        "    came_from = {}\n",
        "    g_score = {node: float('inf') for node in nodes}\n",
        "    g_score[start] = 0\n",
        "\n",
        "    f_score = {node: float('inf') for node in nodes}\n",
        "    f_score[start] = heuristic[start]\n",
        "\n",
        "    while open_set:\n",
        "        current = heapq.heappop(open_set)[1]\n",
        "\n",
        "        if current == goal:\n",
        "            return reconstruct_path(came_from, current), g_score[goal]\n",
        "\n",
        "        for neighbor, weight in edges.get(current, []):\n",
        "            tentative_g_score = g_score[current] + weight\n",
        "\n",
        "            if tentative_g_score < g_score[neighbor]:\n",
        "                came_from[neighbor] = current\n",
        "                g_score[neighbor] = tentative_g_score\n",
        "                f_score[neighbor] = g_score[neighbor] + heuristic[neighbor]\n",
        "\n",
        "                if not any(neighbor == item[1] for item in open_set):\n",
        "                    heapq.heappush(open_set, (f_score[neighbor], neighbor))\n",
        "\n",
        "    return None, None\n",
        "\n",
        "def reconstruct_path(came_from, current):\n",
        "    path = [current]\n",
        "    while current in came_from:\n",
        "        current = came_from[current]\n",
        "        path.append(current)\n",
        "    path.reverse()\n",
        "    return path\n",
        "\n",
        "#1\n",
        "nodes1 = ['A', 'B', 'C', 'D', 'E', 'F']\n",
        "edges1 = {\n",
        "    'A': [('B', 1), ('C', 4)],\n",
        "    'B': [('D', 3), ('E', 5)],\n",
        "    'C': [('F', 2)],\n",
        "    'D': [('F', 1), ('E', 1)],\n",
        "    'E': [('F', 2)]\n",
        "}\n",
        "heuristic1 = {\n",
        "    'A': 7,  # Example heuristic values\n",
        "    'B': 6,\n",
        "    'C': 2,\n",
        "    'D': 1,\n",
        "    'E': 3,\n",
        "    'F': 0\n",
        "}\n",
        "\n",
        "path1, cost1 = a_star_search('A', 'F', nodes1, edges1, heuristic1)\n",
        "print(\"Path from A to F:\", \" -> \".join(path1))\n",
        "print(f\"Total cost: {cost1}\")\n",
        "\n",
        "#2\n",
        "nodes2 = ['A', 'B', 'C', 'D', 'E']\n",
        "edges2 = {\n",
        "    'A': [('B', 3), ('C', 5)],\n",
        "    'B': [('D', 2), ('E', 6)],\n",
        "    'C': [('E', 1)],\n",
        "    'D': [('E', 4)]\n",
        "}\n",
        "heuristic2 = {\n",
        "    'A': 6,  # Example heuristic values\n",
        "    'B': 5,\n",
        "    'C': 2,\n",
        "    'D': 1,\n",
        "    'E': 0\n",
        "}\n",
        "\n",
        "path2, cost2 = a_star_search('A', 'E', nodes2, edges2, heuristic2)\n",
        "print(\"Path from A to E:\", \" -> \".join(path2))\n",
        "print(f\"Total cost: {cost2}\")\n"
      ]
    }
  ]
}