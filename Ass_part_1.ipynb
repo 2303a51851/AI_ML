{
  "nbformat": 4,
  "nbformat_minor": 0,
  "metadata": {
    "colab": {
      "provenance": [],
      "authorship_tag": "ABX9TyMooCojurq2TVu5hW7AEMrD",
      "include_colab_link": true
    },
    "kernelspec": {
      "name": "python3",
      "display_name": "Python 3"
    },
    "language_info": {
      "name": "python"
    }
  },
  "cells": [
    {
      "cell_type": "markdown",
      "metadata": {
        "id": "view-in-github",
        "colab_type": "text"
      },
      "source": [
        "<a href=\"https://colab.research.google.com/github/2303a51851/AI_ML/blob/main/Ass_part_1.ipynb\" target=\"_parent\"><img src=\"https://colab.research.google.com/assets/colab-badge.svg\" alt=\"Open In Colab\"/></a>"
      ]
    },
    {
      "cell_type": "code",
      "execution_count": null,
      "metadata": {
        "id": "s0pVWX3FEXLN"
      },
      "outputs": [],
      "source": []
    },
    {
      "cell_type": "code",
      "source": [
        "\n",
        "\n",
        "# 1st Question \"List\"\n",
        "\n",
        "mylist = [\"apple\", \"banana\", \"cherry\"]\n",
        "\n",
        "print(mylist)\n",
        "\n",
        "\n",
        "\n",
        "\n",
        "#chan\n",
        "\n",
        "# 2st Question \"Arrays\"\n",
        "\n",
        "import numpy\n",
        "\n",
        "arr_x=numpy.array([1,2,3,4])\n",
        "\n",
        "print(arr_x)\n",
        "\n",
        "\n",
        "\n",
        "#3rd Question Type\n",
        "\n",
        "print(type(mylist))\n",
        "\n",
        "print(type(arr_x))\n",
        "\n",
        "\n",
        "\n",
        "# 4th Question\n",
        "\n",
        "import numpy\n",
        "\n",
        "sine=numpy.sin(numpy.pi/2)\n",
        "\n",
        "log=numpy.log(10)\n",
        "\n",
        "log2=numpy.log2(10)\n",
        "\n",
        "exp=numpy.exp([4,0])\n",
        "\n",
        "print(sine)\n",
        "\n",
        "print(log)\n",
        "\n",
        "print(log2)\n",
        "\n",
        "print(exp)\n",
        "\n",
        "\n",
        "\n",
        "# 5th Question\n",
        "\n",
        "num_add_1=numpy.array([1,2,3])\n",
        "\n",
        "num_add_2=numpy.array([1,2,3])\n",
        "\n",
        "print(numpy.add(num_add_1,num_add_2))\n",
        "\n",
        "\n"
      ],
      "metadata": {
        "colab": {
          "base_uri": "https://localhost:8080/"
        },
        "id": "nfNHVnpdEcXm",
        "outputId": "c1a688b4-490d-4f0a-c0ac-1ebd713183ba"
      },
      "execution_count": 2,
      "outputs": [
        {
          "output_type": "stream",
          "name": "stdout",
          "text": [
            "['apple', 'banana', 'cherry']\n",
            "[1 2 3 4]\n",
            "<class 'list'>\n",
            "<class 'numpy.ndarray'>\n",
            "1.0\n",
            "2.302585092994046\n",
            "3.321928094887362\n",
            "[54.59815003  1.        ]\n",
            "[2 4 6]\n"
          ]
        }
      ]
    }
  ]
}