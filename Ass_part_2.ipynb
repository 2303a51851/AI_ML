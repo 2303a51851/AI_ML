{
  "nbformat": 4,
  "nbformat_minor": 0,
  "metadata": {
    "colab": {
      "provenance": [],
      "authorship_tag": "ABX9TyPdc6H5XvITCc2aH+LteaeT",
      "include_colab_link": true
    },
    "kernelspec": {
      "name": "python3",
      "display_name": "Python 3"
    },
    "language_info": {
      "name": "python"
    }
  },
  "cells": [
    {
      "cell_type": "markdown",
      "metadata": {
        "id": "view-in-github",
        "colab_type": "text"
      },
      "source": [
        "<a href=\"https://colab.research.google.com/github/2303a51851/AI_ML/blob/main/Ass_part_2.ipynb\" target=\"_parent\"><img src=\"https://colab.research.google.com/assets/colab-badge.svg\" alt=\"Open In Colab\"/></a>"
      ]
    },
    {
      "cell_type": "code",
      "execution_count": null,
      "metadata": {
        "id": "HMjWGwunVDq8"
      },
      "outputs": [],
      "source": [
        "#part 2\n",
        "#1st Question\n",
        "import numpy\n",
        "import matplotlib.pyplot as plt\n",
        "people = [\"kiran\", \"arun\", \"vijay\",\" varun\"]\n",
        "age =[25, 30, 35, 40]\n",
        "height =[145, 151, 165, 173]\n",
        "weight=[45, 55, 65, 75]\n",
        "#3nd Question\n",
        "plt.scatter(people,age)\n",
        "plt.xlabel(\"People\")\n",
        "plt.ylabel(\"age\")\n",
        "plt.title(\"People and there Age\")\n",
        "plt.show()\n",
        "plt.scatter(people,height)\n",
        "plt.xlabel(\"People\")\n",
        "plt.ylabel(\"Height\")\n",
        "plt.title(\"People and there Height\")\n",
        "plt.show()\n",
        "plt.scatter(people,weight)\n",
        "plt.xlabel(\"People\")\n",
        "plt.ylabel(\"Weight\")\n",
        "plt.title(\"People and there Weight\")\n",
        "plt.show()\n",
        "plt.scatter(age,height)\n",
        "plt.xlabel(\"Age\")\n",
        "plt.ylabel(\"Height\")\n",
        "plt.title(\"Age and there Height\")\n",
        "plt.show()\n",
        "plt.scatter(age,weight)\n",
        "plt.xlabel(\"Age\")\n",
        "plt.ylabel(\"Weight\")\n",
        "plt.title(\"Age and there Weight\")\n",
        "plt.show()\n",
        "plt.scatter(height,weight)\n",
        "plt.xlabel(\"Height\")\n",
        "plt.ylabel(\"Weight\")\n",
        "plt.title(\"Age and there Height\")\n",
        "plt.show()\n",
        "#4th Question\n",
        "plt.bar(people,age)\n",
        "plt.xlabel(\"People\")\n",
        "plt.ylabel(\"Age\")\n",
        "plt.title(\"People and there Age\")\n",
        "plt.show()\n",
        "plt.bar(people,height)\n",
        "plt.xlabel(\"People\")\n",
        "plt.ylabel(\"Height\")\n",
        "plt.title(\"People and there Height\")\n",
        "plt.show()\n",
        "plt.bar(people,weight)\n",
        "plt.xlabel(\"People\")\n",
        "plt.ylabel(\"Height\")\n",
        "plt.title(\"People and there Weight\")\n",
        "plt.show()\n",
        "plt.bar(age,height)\n",
        "plt.xlabel(\"Age\")\n",
        "plt.ylabel(\"Height\")\n",
        "plt.title(\"Age and there Height\")\n",
        "plt.show()\n",
        "plt.bar(age,weight)\n",
        "plt.xlabel(\"Age\")\n",
        "plt.ylabel(\"Weight\")\n",
        "plt.title(\"Age and there Weight\")\n",
        "plt.show()\n",
        "plt.bar(height,weight)\n",
        "plt.xlabel(\"Height\")\n",
        "plt.ylabel(\"Weight\")\n",
        "plt.title(\"Height and there Weight\")\n",
        "plt.show()\n",
        "#5th question\n",
        "plt.hist(age)\n",
        "plt.xlabel(\"Age\")\n",
        "plt.ylabel(\"Frequency\")\n",
        "plt.title(\"Histogram of Age\")\n",
        "plt.show()\n",
        "plt.hist(height)\n",
        "plt.xlabel(\"Height\")\n",
        "plt.ylabel(\"Frequency\")\n",
        "plt.title(\"Histogram of Height\")\n",
        "plt.show()\n",
        "plt.hist(weight)\n",
        "plt.xlabel(\"Weight\")\n",
        "plt.ylabel(\"Frequency\")\n",
        "plt.title(\"Histogram of Weight\")\n",
        "plt.show()\n"
      ]
    }
  ]
}