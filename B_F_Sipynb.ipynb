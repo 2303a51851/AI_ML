{
  "nbformat": 4,
  "nbformat_minor": 0,
  "metadata": {
    "colab": {
      "provenance": [],
      "authorship_tag": "ABX9TyPT7sDxwxl1DTwRESWGnC1L",
      "include_colab_link": true
    },
    "kernelspec": {
      "name": "python3",
      "display_name": "Python 3"
    },
    "language_info": {
      "name": "python"
    }
  },
  "cells": [
    {
      "cell_type": "markdown",
      "metadata": {
        "id": "view-in-github",
        "colab_type": "text"
      },
      "source": [
        "<a href=\"https://colab.research.google.com/github/2303a51851/AI_ML/blob/main/B_F_Sipynb.ipynb\" target=\"_parent\"><img src=\"https://colab.research.google.com/assets/colab-badge.svg\" alt=\"Open In Colab\"/></a>"
      ]
    },
    {
      "cell_type": "code",
      "execution_count": 1,
      "metadata": {
        "colab": {
          "base_uri": "https://localhost:8080/"
        },
        "id": "Nk8FZqY5Ok0H",
        "outputId": "3d4eb865-0e8b-4fa6-b1a3-cdf5d5f9b9c9"
      },
      "outputs": [
        {
          "output_type": "stream",
          "name": "stdout",
          "text": [
            "BFS starting from 0: \n",
            "0 1 2 3 4 "
          ]
        }
      ],
      "source": [
        "from collections import deque\n",
        "\n",
        "\n",
        "def bfs(adj, s, visited):\n",
        "\n",
        "\n",
        "    q = deque()\n",
        "\n",
        "\n",
        "    visited[s] = True\n",
        "    q.append(s)\n",
        "\n",
        "\n",
        "    while q:\n",
        "\n",
        "\n",
        "        curr = q.popleft()\n",
        "        print(curr, end=\" \")\n",
        "\n",
        "\n",
        "        for x in adj[curr]:\n",
        "            if not visited[x]:\n",
        "                visited[x] = True\n",
        "                q.append(x)\n",
        "\n",
        "\n",
        "def add_edge(adj, u, v):\n",
        "    adj[u].append(v)\n",
        "    adj[v].append(u)\n",
        "\n",
        "\n",
        "if __name__ == \"__main__\":\n",
        "\n",
        "\n",
        "    V = 5\n",
        "\n",
        "\n",
        "    adj = [[] for _ in range(V)]\n",
        "\n",
        "\n",
        "    add_edge(adj, 0, 1)\n",
        "    add_edge(adj, 0, 2)\n",
        "    add_edge(adj, 1, 3)\n",
        "    add_edge(adj, 1, 4)\n",
        "    add_edge(adj, 2, 4)\n",
        "\n",
        "\n",
        "    visited = [False] * V\n",
        "\n",
        "\n",
        "    print(\"BFS starting from 0: \")\n",
        "    bfs(adj, 0, visited)"
      ]
    }
  ]
}